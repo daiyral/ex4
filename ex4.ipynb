{
 "cells": [
  {
   "cell_type": "code",
   "execution_count": 1,
   "metadata": {},
   "outputs": [
    {
     "name": "stderr",
     "output_type": "stream",
     "text": [
      "C:\\Users\\Danny\\AppData\\Local\\Temp\\ipykernel_23144\\3594618755.py:11: DeprecationWarning: `set_matplotlib_formats` is deprecated since IPython 7.23, directly use `matplotlib_inline.backend_inline.set_matplotlib_formats()`\n",
      "  set_matplotlib_formats('svg', 'pdf') # For export\n",
      "Seed set to 42\n"
     ]
    },
    {
     "name": "stdout",
     "output_type": "stream",
     "text": [
      "Using device cuda:0\n"
     ]
    },
    {
     "data": {
      "text/plain": [
       "<Figure size 640x480 with 0 Axes>"
      ]
     },
     "metadata": {},
     "output_type": "display_data"
    }
   ],
   "source": [
    "## Standard libraries\n",
    "import os\n",
    "import math\n",
    "import numpy as np \n",
    "\n",
    "## Imports for plotting\n",
    "import matplotlib.pyplot as plt\n",
    "plt.set_cmap('cividis')\n",
    "%matplotlib inline \n",
    "from IPython.display import set_matplotlib_formats\n",
    "set_matplotlib_formats('svg', 'pdf') # For export\n",
    "from matplotlib.colors import to_rgb\n",
    "import seaborn as sns\n",
    "\n",
    "## Progress bar\n",
    "from tqdm.notebook import tqdm\n",
    "\n",
    "## PyTorch\n",
    "import torch\n",
    "import torch.nn as nn\n",
    "import torch.nn.functional as F\n",
    "import torch.utils.data as data\n",
    "import torch.optim as optim\n",
    "# Torchvision\n",
    "import torchvision\n",
    "from torchvision.datasets import MNIST\n",
    "from torchvision import transforms\n",
    "# PyTorch Lightning\n",
    "import pytorch_lightning as pl\n",
    "from pytorch_lightning.callbacks import LearningRateMonitor, ModelCheckpoint\n",
    "\n",
    "# Path to the folder where the datasets are/should be downloaded (e.g. MNIST)\n",
    "DATASET_PATH = \"./data\"\n",
    "# Path to the folder where the pretrained models are saved\n",
    "CHECKPOINT_PATH = \"./saved_models/tutorial12\"\n",
    "\n",
    "# Setting the seed\n",
    "pl.seed_everything(42)\n",
    "\n",
    "# Ensure that all operations are deterministic on GPU (if used) for reproducibility\n",
    "torch.backends.cudnn.deterministic = True\n",
    "torch.backends.cudnn.benchmark = False\n",
    "\n",
    "# Fetching the device that will be used throughout this notebook\n",
    "device = torch.device(\"cpu\") if not torch.cuda.is_available() else torch.device(\"cuda:0\")\n",
    "print(\"Using device\", device)"
   ]
  },
  {
   "cell_type": "code",
   "execution_count": 2,
   "metadata": {},
   "outputs": [
    {
     "name": "stderr",
     "output_type": "stream",
     "text": [
      "Seed set to 42\n"
     ]
    }
   ],
   "source": [
    "# Convert images from 0-1 to 0-255 (integers). We use the long datatype as we will use the images as labels as well\n",
    "def discretize(sample):\n",
    "    return (sample * 255).to(torch.long)\n",
    "\n",
    "# Transformations applied on each image => only make them a tensor\n",
    "transform = transforms.Compose([transforms.ToTensor(),\n",
    "                                discretize])\n",
    "\n",
    "# Loading the training dataset. We need to split it into a training and validation part\n",
    "train_dataset = MNIST(root=DATASET_PATH, train=True, transform=transform, download=True)\n",
    "pl.seed_everything(42)\n",
    "train_set, val_set = torch.utils.data.random_split(train_dataset, [50000, 10000])\n",
    "\n",
    "# Loading the test set\n",
    "test_set = MNIST(root=DATASET_PATH, train=False, transform=transform, download=True)\n",
    "\n",
    "# We define a set of data loaders that we can use for various purposes later.\n",
    "train_loader = data.DataLoader(train_set, batch_size=128, shuffle=True, drop_last=True, pin_memory=True)\n",
    "val_loader = data.DataLoader(val_set, batch_size=128, shuffle=False, drop_last=False)\n",
    "test_loader = data.DataLoader(test_set, batch_size=128, shuffle=False, drop_last=False)"
   ]
  },
  {
   "cell_type": "code",
   "execution_count": 3,
   "metadata": {},
   "outputs": [
    {
     "data": {
      "application/pdf": "[encoded data removed]",
      "image/svg+xml": [
       "<?xml version=\"1.0\" encoding=\"utf-8\" standalone=\"no\"?>\n",
       "<!DOCTYPE svg PUBLIC \"-//W3C//DTD SVG 1.1//EN\"\n",
       "  \"http://www.w3.org/Graphics/SVG/1.1/DTD/svg11.dtd\">\n",
       "<svg xmlns:xlink=\"http://www.w3.org/1999/xlink\" width=\"341.674839pt\" height=\"180.72pt\" viewBox=\"0 0 341.674839 180.72\" xmlns=\"http://www.w3.org/2000/svg\" version=\"1.1\">\n",
       " <metadata>\n",
       "  <rdf:RDF xmlns:dc=\"http://purl.org/dc/elements/1.1/\" xmlns:cc=\"http://creativecommons.org/ns#\" xmlns:rdf=\"http://www.w3.org/1999/02/22-rdf-syntax-ns#\">\n",
       "   <cc:Work>\n",
       "    <dc:type rdf:resource=\"http://purl.org/dc/dcmitype/StillImage\"/>\n",
       "    <dc:date>2024-06-11T20:38:55.053372</dc:date>\n",
       "    <dc:format>image/svg+xml</dc:format>\n",
       "    <dc:creator>\n",
       "     <cc:Agent>\n",
       "      <dc:title>Matplotlib v3.9.0, https://matplotlib.org/</dc:title>\n",
       "     </cc:Agent>\n",
       "    </dc:creator>\n",
       "   </cc:Work>\n",
       "  </rdf:RDF>\n",
       " </metadata>\n",
       " <defs>\n",
       "  <style type=\"text/css\">*{stroke-linejoin: round; stroke-linecap: butt}</style>\n",
       " </defs>\n",
       " <g id=\"figure_1\">\n",
       "  <g id=\"patch_1\">\n",
       "   <path d=\"M 0 180.72 \n",
       "L 341.674839 180.72 \n",
       "L 341.674839 0 \n",
       "L 0 0 \n",
       "z\n",
       "\" style=\"fill: #ffffff\"/>\n",
       "  </g>\n",
       "  <g id=\"axes_1\">\n",
       "   <g clip-path=\"url(#p0bb4ea0ae0)\">\n",
       "    <image xlink:href=\"data:image/png;base64,\n",
       "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\" id=\"image5d4d6458b3\" transform=\"scale(1 -1) translate(0 -166.32)\" x=\"7.2\" y=\"-7.2\" width=\"327.6\" height=\"166.32\"/>\n",
       "   </g>\n",
       "  </g>\n",
       " </g>\n",
       " <defs>\n",
       "  <clipPath id=\"p0bb4ea0ae0\">\n",
       "   <rect x=\"7.2\" y=\"7.2\" width=\"327.274839\" height=\"166.32\"/>\n",
       "  </clipPath>\n",
       " </defs>\n",
       "</svg>\n"
      ],
      "text/plain": [
       "<Figure size 600x300 with 1 Axes>"
      ]
     },
     "metadata": {},
     "output_type": "display_data"
    }
   ],
   "source": [
    "def show_imgs(imgs):\n",
    "    num_imgs = imgs.shape[0] if isinstance(imgs, torch.Tensor) else len(imgs)\n",
    "    nrow = min(num_imgs, 4)\n",
    "    ncol = int(math.ceil(num_imgs/nrow))\n",
    "    imgs = torchvision.utils.make_grid(imgs, nrow=nrow, pad_value=128)\n",
    "    imgs = imgs.clamp(min=0, max=255)\n",
    "    np_imgs = imgs.cpu().numpy()\n",
    "    plt.figure(figsize=(1.5*nrow, 1.5*ncol))\n",
    "    plt.imshow(np.transpose(np_imgs, (1,2,0)), interpolation='nearest')\n",
    "    plt.axis('off')\n",
    "    plt.show()\n",
    "    plt.close()\n",
    "\n",
    "show_imgs([train_set[i][0] for i in range(8)])"
   ]
  },
  {
   "cell_type": "code",
   "execution_count": 4,
   "metadata": {},
   "outputs": [],
   "source": [
    "class MaskedConvolution(nn.Module):\n",
    "    \n",
    "    def __init__(self, c_in, c_out, mask, **kwargs):\n",
    "        \"\"\"\n",
    "        Implements a convolution with mask applied on its weights.\n",
    "        Inputs:\n",
    "            c_in - Number of input channels\n",
    "            c_out - Number of output channels\n",
    "            mask - Tensor of shape [kernel_size_H, kernel_size_W] with 0s where\n",
    "                   the convolution should be masked, and 1s otherwise.\n",
    "            kwargs - Additional arguments for the convolution\n",
    "        \"\"\"\n",
    "        super().__init__()\n",
    "        # For simplicity: calculate padding automatically \n",
    "        kernel_size = (mask.shape[0], mask.shape[1])\n",
    "        padding = tuple([(kernel_size[i]-1)//2 for i in range(2)])\n",
    "        # Actual convolution\n",
    "        self.conv = nn.Conv2d(c_in, c_out, kernel_size, padding=padding, **kwargs)\n",
    "        # Mask as buffer => it is no parameter but still a tensor of the module \n",
    "        # (must be moved with the devices)\n",
    "        self.register_buffer('mask', mask[None,None])\n",
    "        \n",
    "    def forward(self, x):\n",
    "        self.conv.weight.data *= self.mask # Ensures zero's at masked positions\n",
    "        return self.conv(x)"
   ]
  },
  {
   "cell_type": "code",
   "execution_count": 5,
   "metadata": {},
   "outputs": [],
   "source": [
    "class VerticalStackConvolution(MaskedConvolution):\n",
    "    \n",
    "    def __init__(self, c_in, c_out, kernel_size=3, mask_center=False, **kwargs):\n",
    "        # Mask out all pixels below. For efficiency, we could also reduce the kernel\n",
    "        # size in height, but for simplicity, we stick with masking here.\n",
    "        mask = torch.ones(kernel_size, kernel_size)\n",
    "        mask[kernel_size//2+1:,:] = 0\n",
    "        \n",
    "        # For the very first convolution, we will also mask the center row\n",
    "        if mask_center:\n",
    "            mask[kernel_size//2,:] = 0\n",
    "        \n",
    "        super().__init__(c_in, c_out, mask, **kwargs)\n",
    "\n",
    "        \n",
    "class HorizontalStackConvolution(MaskedConvolution):\n",
    "    \n",
    "    def __init__(self, c_in, c_out, kernel_size=3, mask_center=False, **kwargs):\n",
    "        # Mask out all pixels on the left. Note that our kernel has a size of 1\n",
    "        # in height because we only look at the pixel in the same row.\n",
    "        mask = torch.ones(1,kernel_size)\n",
    "        mask[0,kernel_size//2+1:] = 0\n",
    "        \n",
    "        # For the very first convolution, we will also mask the center pixel\n",
    "        if mask_center:\n",
    "            mask[0,kernel_size//2] = 0\n",
    "        \n",
    "        super().__init__(c_in, c_out, mask, **kwargs)"
   ]
  },
  {
   "cell_type": "code",
   "execution_count": 6,
   "metadata": {},
   "outputs": [],
   "source": [
    "inp_img = torch.zeros(1, 1, 11, 11)\n",
    "inp_img.requires_grad_()\n",
    "\n",
    "def show_center_recep_field(img, out):\n",
    "    \"\"\"\n",
    "    Calculates the gradients of the input with respect to the output center pixel,\n",
    "    and visualizes the overall receptive field.\n",
    "    Inputs:\n",
    "        img - Input image for which we want to calculate the receptive field on.\n",
    "        out - Output features/loss which is used for backpropagation, and should be\n",
    "              the output of the network/computation graph.\n",
    "    \"\"\"\n",
    "    # Determine gradients\n",
    "    loss = out[0,:,img.shape[2]//2,img.shape[3]//2].sum() # L1 loss for simplicity\n",
    "    loss.backward(retain_graph=True) # Retain graph as we want to stack multiple layers and show the receptive field of all of them\n",
    "    img_grads = img.grad.abs()\n",
    "    img.grad.fill_(0) # Reset grads\n",
    "    \n",
    "    # Plot receptive field\n",
    "    img = img_grads.squeeze().cpu().numpy()\n",
    "    fig, ax = plt.subplots(1,2)\n",
    "    pos = ax[0].imshow(img)\n",
    "    ax[1].imshow(img>0)\n",
    "    # Mark the center pixel in red if it doesn't have any gradients (should be the case for standard autoregressive models)\n",
    "    show_center = (img[img.shape[0]//2,img.shape[1]//2] == 0)\n",
    "    if show_center:\n",
    "        center_pixel = np.zeros(img.shape + (4,))\n",
    "        center_pixel[center_pixel.shape[0]//2,center_pixel.shape[1]//2,:] = np.array([1.0, 0.0, 0.0, 1.0]) \n",
    "    for i in range(2):\n",
    "        ax[i].axis('off')\n",
    "        if show_center:\n",
    "            ax[i].imshow(center_pixel)\n",
    "    ax[0].set_title(\"Weighted receptive field\")\n",
    "    ax[1].set_title(\"Binary receptive field\")\n",
    "    plt.show()\n",
    "    plt.close()\n",
    "\n",
    "#show_center_recep_field(inp_img, inp_img)"
   ]
  },
  {
   "cell_type": "code",
   "execution_count": 7,
   "metadata": {},
   "outputs": [],
   "source": [
    "# Question 1\n",
    "# Implement a version of the model without the gated convolution and dilation, using several layers of masked convolutions using vertical / horizontal stacks.\n",
    "\n",
    "class PixelCNN2(pl.LightningModule):\n",
    "    \n",
    "    def __init__(self, c_in, c_hidden, layers):\n",
    "        super().__init__()\n",
    "        self.save_hyperparameters()\n",
    "        \n",
    "        # Initial convolutions skipping the center pixel\n",
    "        self.conv_vstack = VerticalStackConvolution(c_in, c_hidden, mask_center=True)\n",
    "        self.conv_hstack = HorizontalStackConvolution(c_in, c_hidden, mask_center=True)\n",
    "\n",
    "        # Masked Convolutions\n",
    "        self.conv_vert = nn.ModuleList([VerticalStackConvolution(c_hidden, c_hidden, kernel_size=3, mask_center=False) for _ in range(layers)])\n",
    "        self.conv_horiz = nn.ModuleList([HorizontalStackConvolution(c_hidden, c_hidden, kernel_size=3, mask_center=False) for _ in range(layers)])\n",
    "        \n",
    "        # Output classification convolution (1x1)\n",
    "        self.conv_out = nn.Conv2d(c_hidden, c_in * 256, kernel_size=1, padding=0)\n",
    "        \n",
    "        \n",
    "    def forward(self, x):\n",
    "        \"\"\"\n",
    "        Forward image through model and return logits for each pixel.\n",
    "        Inputs:\n",
    "            x - Image tensor with integer values between 0 and 255.\n",
    "        \"\"\"\n",
    "        # Scale input from 0 to 255 back to -1 to 1\n",
    "        self.to(x.device)\n",
    "        x = (x.float() / 255.0) * 2 - 1 \n",
    "        \n",
    "        # Initial convolutions\n",
    "        v_stack = self.conv_vstack(x)\n",
    "        h_stack = self.conv_hstack(x)\n",
    "        \n",
    "        # Masked Convolutions\n",
    "        for conv_v, conv_h in zip(self.conv_vert, self.conv_horiz):\n",
    "            v_stack, h_stack = conv_v(v_stack), conv_h(h_stack)\n",
    "            h_stack = h_stack + v_stack\n",
    "            v_stack, h_stack = F.relu(v_stack), F.relu(h_stack)\n",
    "\n",
    "        # 1x1 classification convolution\n",
    "        out = self.conv_out(F.relu(h_stack))\n",
    "        \n",
    "        # Output dimensions: [Batch, Classes, Channels, Height, Width]\n",
    "        out = out.reshape(out.shape[0], 256, out.shape[1] // 256, out.shape[2], out.shape[3])\n",
    "        return out\n",
    "    \n",
    "    def calc_likelihood(self, x):\n",
    "        # Forward pass with bpd likelihood calculation\n",
    "        pred = self.forward(x)\n",
    "        nll = F.cross_entropy(pred, x, reduction='none')\n",
    "        bpd = nll.mean(dim=[1,2,3]) * np.log2(np.exp(1))\n",
    "        return bpd.mean()\n",
    "\n",
    "    def calc_loss(self, x):\n",
    "        # Forward pass with bpd likelihood calculation\n",
    "        pred = self.forward(x)\n",
    "        nll = F.cross_entropy(pred, x, reduction='mean')\n",
    "        return nll\n",
    "        \n",
    "    @torch.no_grad()\n",
    "    def sample(self, img_shape, img=None):\n",
    "        \"\"\"\n",
    "        Sampling function for the autoregressive model.\n",
    "        Inputs:\n",
    "            img_shape - Shape of the image to generate (B,C,H,W)\n",
    "            img (optional) - If given, this tensor will be used as\n",
    "                             a starting image. The pixels to fill \n",
    "                             should be -1 in the input tensor.\n",
    "        \"\"\"\n",
    "        # Create empty image\n",
    "        if img is None:\n",
    "            img = torch.zeros(img_shape, dtype=torch.long).to(device) - 1\n",
    "        # Generation loop\n",
    "        for h in tqdm(range(img_shape[2]), leave=False):\n",
    "            for w in range(img_shape[3]):\n",
    "                for c in range(img_shape[1]):\n",
    "                    # Skip if not to be filled (-1)\n",
    "                    if (img[:,c,h,w] != -1).all().item():\n",
    "                        continue\n",
    "                    # For efficiency, we only have to input the upper part of the image\n",
    "                    # as all other parts will be skipped by the masked convolutions anyways\n",
    "                    pred = self.forward(img[:,:,:h+1,:]) \n",
    "                    probs = F.softmax(pred[:,:,c,h,w], dim=-1)\n",
    "                    img[:,c,h,w] = torch.multinomial(probs, num_samples=1).squeeze(dim=-1)\n",
    "        return img\n",
    "    \n",
    "    def configure_optimizers(self):\n",
    "        optimizer = optim.Adam(self.parameters(), lr=1e-3)\n",
    "        scheduler = optim.lr_scheduler.StepLR(optimizer, 1, gamma=0.99)\n",
    "        return [optimizer], [scheduler]\n",
    "    \n",
    "    def training_step(self, batch, batch_idx):\n",
    "        loss = self.calc_likelihood(batch[0])                             \n",
    "        self.log('train_bpd', loss)\n",
    "        return loss\n",
    "    \n",
    "    def validation_step(self, batch, batch_idx):\n",
    "        loss = self.calc_likelihood(batch[0])\n",
    "        self.log('val_bpd', loss)\n",
    "    \n",
    "    def test_step(self, batch, batch_idx):\n",
    "        loss = self.calc_likelihood(batch[0])\n",
    "        self.log('test_bpd', loss)\n",
    "    \n",
    "        "
   ]
  },
  {
   "cell_type": "code",
   "execution_count": 8,
   "metadata": {},
   "outputs": [
    {
     "data": {
      "application/pdf": "[encoded data removed]",
      "image/svg+xml": [
       "<?xml version=\"1.0\" encoding=\"utf-8\" standalone=\"no\"?>\n",
       "<!DOCTYPE svg PUBLIC \"-//W3C//DTD SVG 1.1//EN\"\n",
       "  \"http://www.w3.org/Graphics/SVG/1.1/DTD/svg11.dtd\">\n",
       "<svg xmlns:xlink=\"http://www.w3.org/1999/xlink\" width=\"371.52pt\" height=\"191.845398pt\" viewBox=\"0 0 371.52 191.845398\" xmlns=\"http://www.w3.org/2000/svg\" version=\"1.1\">\n",
       " <metadata>\n",
       "  <rdf:RDF xmlns:dc=\"http://purl.org/dc/elements/1.1/\" xmlns:cc=\"http://creativecommons.org/ns#\" xmlns:rdf=\"http://www.w3.org/1999/02/22-rdf-syntax-ns#\">\n",
       "   <cc:Work>\n",
       "    <dc:type rdf:resource=\"http://purl.org/dc/dcmitype/StillImage\"/>\n",
       "    <dc:date>2024-06-11T20:38:55.433845</dc:date>\n",
       "    <dc:format>image/svg+xml</dc:format>\n",
       "    <dc:creator>\n",
       "     <cc:Agent>\n",
       "      <dc:title>Matplotlib v3.9.0, https://matplotlib.org/</dc:title>\n",
       "     </cc:Agent>\n",
       "    </dc:creator>\n",
       "   </cc:Work>\n",
       "  </rdf:RDF>\n",
       " </metadata>\n",
       " <defs>\n",
       "  <style type=\"text/css\">*{stroke-linejoin: round; stroke-linecap: butt}</style>\n",
       " </defs>\n",
       " <g id=\"figure_1\">\n",
       "  <g id=\"patch_1\">\n",
       "   <path d=\"M 0 191.845398 \n",
       "L 371.52 191.845398 \n",
       "L 371.52 -0 \n",
       "L 0 -0 \n",
       "z\n",
       "\" style=\"fill: #ffffff\"/>\n",
       "  </g>\n",
       "  <g id=\"axes_1\">\n",
       "   <g clip-path=\"url(#p3f56bbd486)\">\n",
       "    <image xlink:href=\"data:image/png;base64,\n",
       "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\" id=\"imagec0af27d63e\" transform=\"scale(1 -1) translate(0 -162.72)\" x=\"7\" y=\"-22.125398\" width=\"162.72\" height=\"162.72\"/>\n",
       "   </g>\n",
       "   <g id=\"text_1\">\n",
       "    <!-- Weighted receptive field -->\n",
       "    <g transform=\"translate(15.113949 16.318125) scale(0.12 -0.12)\">\n",
       "     <defs>\n",
       "      <path id=\"DejaVuSans-57\" d=\"M 213 4666 \n",
       "L 850 4666 \n",
       "L 1831 722 \n",
       "L 2809 4666 \n",
       "L 3519 4666 \n",
       "L 4500 722 \n",
       "L 5478 4666 \n",
       "L 6119 4666 \n",
       "L 4947 0 \n",
       "L 4153 0 \n",
       "L 3169 4050 \n",
       "L 2175 0 \n",
       "L 1381 0 \n",
       "L 213 4666 \n",
       "z\n",
       "\" transform=\"scale(0.015625)\"/>\n",
       "      <path id=\"DejaVuSans-65\" d=\"M 3597 1894 \n",
       "L 3597 1613 \n",
       "L 953 1613 \n",
       "Q 991 1019 1311 708 \n",
       "Q 1631 397 2203 397 \n",
       "Q 2534 397 2845 478 \n",
       "Q 3156 559 3463 722 \n",
       "L 3463 178 \n",
       "Q 3153 47 2828 -22 \n",
       "Q 2503 -91 2169 -91 \n",
       "Q 1331 -91 842 396 \n",
       "Q 353 884 353 1716 \n",
       "Q 353 2575 817 3079 \n",
       "Q 1281 3584 2069 3584 \n",
       "Q 2775 3584 3186 3129 \n",
       "Q 3597 2675 3597 1894 \n",
       "z\n",
       "M 3022 2063 \n",
       "Q 3016 2534 2758 2815 \n",
       "Q 2500 3097 2075 3097 \n",
       "Q 1594 3097 1305 2825 \n",
       "Q 1016 2553 972 2059 \n",
       "L 3022 2063 \n",
       "z\n",
       "\" transform=\"scale(0.015625)\"/>\n",
       "      <path id=\"DejaVuSans-69\" d=\"M 603 3500 \n",
       "L 1178 3500 \n",
       "L 1178 0 \n",
       "L 603 0 \n",
       "L 603 3500 \n",
       "z\n",
       "M 603 4863 \n",
       "L 1178 4863 \n",
       "L 1178 4134 \n",
       "L 603 4134 \n",
       "L 603 4863 \n",
       "z\n",
       "\" transform=\"scale(0.015625)\"/>\n",
       "      <path id=\"DejaVuSans-67\" d=\"M 2906 1791 \n",
       "Q 2906 2416 2648 2759 \n",
       "Q 2391 3103 1925 3103 \n",
       "Q 1463 3103 1205 2759 \n",
       "Q 947 2416 947 1791 \n",
       "Q 947 1169 1205 825 \n",
       "Q 1463 481 1925 481 \n",
       "Q 2391 481 2648 825 \n",
       "Q 2906 1169 2906 1791 \n",
       "z\n",
       "M 3481 434 \n",
       "Q 3481 -459 3084 -895 \n",
       "Q 2688 -1331 1869 -1331 \n",
       "Q 1566 -1331 1297 -1286 \n",
       "Q 1028 -1241 775 -1147 \n",
       "L 775 -588 \n",
       "Q 1028 -725 1275 -790 \n",
       "Q 1522 -856 1778 -856 \n",
       "Q 2344 -856 2625 -561 \n",
       "Q 2906 -266 2906 331 \n",
       "L 2906 616 \n",
       "Q 2728 306 2450 153 \n",
       "Q 2172 0 1784 0 \n",
       "Q 1141 0 747 490 \n",
       "Q 353 981 353 1791 \n",
       "Q 353 2603 747 3093 \n",
       "Q 1141 3584 1784 3584 \n",
       "Q 2172 3584 2450 3431 \n",
       "Q 2728 3278 2906 2969 \n",
       "L 2906 3500 \n",
       "L 3481 3500 \n",
       "L 3481 434 \n",
       "z\n",
       "\" transform=\"scale(0.015625)\"/>\n",
       "      <path id=\"DejaVuSans-68\" d=\"M 3513 2113 \n",
       "L 3513 0 \n",
       "L 2938 0 \n",
       "L 2938 2094 \n",
       "Q 2938 2591 2744 2837 \n",
       "Q 2550 3084 2163 3084 \n",
       "Q 1697 3084 1428 2787 \n",
       "Q 1159 2491 1159 1978 \n",
       "L 1159 0 \n",
       "L 581 0 \n",
       "L 581 4863 \n",
       "L 1159 4863 \n",
       "L 1159 2956 \n",
       "Q 1366 3272 1645 3428 \n",
       "Q 1925 3584 2291 3584 \n",
       "Q 2894 3584 3203 3211 \n",
       "Q 3513 2838 3513 2113 \n",
       "z\n",
       "\" transform=\"scale(0.015625)\"/>\n",
       "      <path id=\"DejaVuSans-74\" d=\"M 1172 4494 \n",
       "L 1172 3500 \n",
       "L 2356 3500 \n",
       "L 2356 3053 \n",
       "L 1172 3053 \n",
       "L 1172 1153 \n",
       "Q 1172 725 1289 603 \n",
       "Q 1406 481 1766 481 \n",
       "L 2356 481 \n",
       "L 2356 0 \n",
       "L 1766 0 \n",
       "Q 1100 0 847 248 \n",
       "Q 594 497 594 1153 \n",
       "L 594 3053 \n",
       "L 172 3053 \n",
       "L 172 3500 \n",
       "L 594 3500 \n",
       "L 594 4494 \n",
       "L 1172 4494 \n",
       "z\n",
       "\" transform=\"scale(0.015625)\"/>\n",
       "      <path id=\"DejaVuSans-64\" d=\"M 2906 2969 \n",
       "L 2906 4863 \n",
       "L 3481 4863 \n",
       "L 3481 0 \n",
       "L 2906 0 \n",
       "L 2906 525 \n",
       "Q 2725 213 2448 61 \n",
       "Q 2172 -91 1784 -91 \n",
       "Q 1150 -91 751 415 \n",
       "Q 353 922 353 1747 \n",
       "Q 353 2572 751 3078 \n",
       "Q 1150 3584 1784 3584 \n",
       "Q 2172 3584 2448 3432 \n",
       "Q 2725 3281 2906 2969 \n",
       "z\n",
       "M 947 1747 \n",
       "Q 947 1113 1208 752 \n",
       "Q 1469 391 1925 391 \n",
       "Q 2381 391 2643 752 \n",
       "Q 2906 1113 2906 1747 \n",
       "Q 2906 2381 2643 2742 \n",
       "Q 2381 3103 1925 3103 \n",
       "Q 1469 3103 1208 2742 \n",
       "Q 947 2381 947 1747 \n",
       "z\n",
       "\" transform=\"scale(0.015625)\"/>\n",
       "      <path id=\"DejaVuSans-20\" transform=\"scale(0.015625)\"/>\n",
       "      <path id=\"DejaVuSans-72\" d=\"M 2631 2963 \n",
       "Q 2534 3019 2420 3045 \n",
       "Q 2306 3072 2169 3072 \n",
       "Q 1681 3072 1420 2755 \n",
       "Q 1159 2438 1159 1844 \n",
       "L 1159 0 \n",
       "L 581 0 \n",
       "L 581 3500 \n",
       "L 1159 3500 \n",
       "L 1159 2956 \n",
       "Q 1341 3275 1631 3429 \n",
       "Q 1922 3584 2338 3584 \n",
       "Q 2397 3584 2469 3576 \n",
       "Q 2541 3569 2628 3553 \n",
       "L 2631 2963 \n",
       "z\n",
       "\" transform=\"scale(0.015625)\"/>\n",
       "      <path id=\"DejaVuSans-63\" d=\"M 3122 3366 \n",
       "L 3122 2828 \n",
       "Q 2878 2963 2633 3030 \n",
       "Q 2388 3097 2138 3097 \n",
       "Q 1578 3097 1268 2742 \n",
       "Q 959 2388 959 1747 \n",
       "Q 959 1106 1268 751 \n",
       "Q 1578 397 2138 397 \n",
       "Q 2388 397 2633 464 \n",
       "Q 2878 531 3122 666 \n",
       "L 3122 134 \n",
       "Q 2881 22 2623 -34 \n",
       "Q 2366 -91 2075 -91 \n",
       "Q 1284 -91 818 406 \n",
       "Q 353 903 353 1747 \n",
       "Q 353 2603 823 3093 \n",
       "Q 1294 3584 2113 3584 \n",
       "Q 2378 3584 2631 3529 \n",
       "Q 2884 3475 3122 3366 \n",
       "z\n",
       "\" transform=\"scale(0.015625)\"/>\n",
       "      <path id=\"DejaVuSans-70\" d=\"M 1159 525 \n",
       "L 1159 -1331 \n",
       "L 581 -1331 \n",
       "L 581 3500 \n",
       "L 1159 3500 \n",
       "L 1159 2969 \n",
       "Q 1341 3281 1617 3432 \n",
       "Q 1894 3584 2278 3584 \n",
       "Q 2916 3584 3314 3078 \n",
       "Q 3713 2572 3713 1747 \n",
       "Q 3713 922 3314 415 \n",
       "Q 2916 -91 2278 -91 \n",
       "Q 1894 -91 1617 61 \n",
       "Q 1341 213 1159 525 \n",
       "z\n",
       "M 3116 1747 \n",
       "Q 3116 2381 2855 2742 \n",
       "Q 2594 3103 2138 3103 \n",
       "Q 1681 3103 1420 2742 \n",
       "Q 1159 2381 1159 1747 \n",
       "Q 1159 1113 1420 752 \n",
       "Q 1681 391 2138 391 \n",
       "Q 2594 391 2855 752 \n",
       "Q 3116 1113 3116 1747 \n",
       "z\n",
       "\" transform=\"scale(0.015625)\"/>\n",
       "      <path id=\"DejaVuSans-76\" d=\"M 191 3500 \n",
       "L 800 3500 \n",
       "L 1894 563 \n",
       "L 2988 3500 \n",
       "L 3597 3500 \n",
       "L 2284 0 \n",
       "L 1503 0 \n",
       "L 191 3500 \n",
       "z\n",
       "\" transform=\"scale(0.015625)\"/>\n",
       "      <path id=\"DejaVuSans-66\" d=\"M 2375 4863 \n",
       "L 2375 4384 \n",
       "L 1825 4384 \n",
       "Q 1516 4384 1395 4259 \n",
       "Q 1275 4134 1275 3809 \n",
       "L 1275 3500 \n",
       "L 2222 3500 \n",
       "L 2222 3053 \n",
       "L 1275 3053 \n",
       "L 1275 0 \n",
       "L 697 0 \n",
       "L 697 3053 \n",
       "L 147 3053 \n",
       "L 147 3500 \n",
       "L 697 3500 \n",
       "L 697 3744 \n",
       "Q 697 4328 969 4595 \n",
       "Q 1241 4863 1831 4863 \n",
       "L 2375 4863 \n",
       "z\n",
       "\" transform=\"scale(0.015625)\"/>\n",
       "      <path id=\"DejaVuSans-6c\" d=\"M 603 4863 \n",
       "L 1178 4863 \n",
       "L 1178 0 \n",
       "L 603 0 \n",
       "L 603 4863 \n",
       "z\n",
       "\" transform=\"scale(0.015625)\"/>\n",
       "     </defs>\n",
       "     <use xlink:href=\"#DejaVuSans-57\"/>\n",
       "     <use xlink:href=\"#DejaVuSans-65\" x=\"93.001953\"/>\n",
       "     <use xlink:href=\"#DejaVuSans-69\" x=\"154.525391\"/>\n",
       "     <use xlink:href=\"#DejaVuSans-67\" x=\"182.308594\"/>\n",
       "     <use xlink:href=\"#DejaVuSans-68\" x=\"245.785156\"/>\n",
       "     <use xlink:href=\"#DejaVuSans-74\" x=\"309.164062\"/>\n",
       "     <use xlink:href=\"#DejaVuSans-65\" x=\"348.373047\"/>\n",
       "     <use xlink:href=\"#DejaVuSans-64\" x=\"409.896484\"/>\n",
       "     <use xlink:href=\"#DejaVuSans-20\" x=\"473.373047\"/>\n",
       "     <use xlink:href=\"#DejaVuSans-72\" x=\"505.160156\"/>\n",
       "     <use xlink:href=\"#DejaVuSans-65\" x=\"544.023438\"/>\n",
       "     <use xlink:href=\"#DejaVuSans-63\" x=\"605.546875\"/>\n",
       "     <use xlink:href=\"#DejaVuSans-65\" x=\"660.527344\"/>\n",
       "     <use xlink:href=\"#DejaVuSans-70\" x=\"722.050781\"/>\n",
       "     <use xlink:href=\"#DejaVuSans-74\" x=\"785.527344\"/>\n",
       "     <use xlink:href=\"#DejaVuSans-69\" x=\"824.736328\"/>\n",
       "     <use xlink:href=\"#DejaVuSans-76\" x=\"852.519531\"/>\n",
       "     <use xlink:href=\"#DejaVuSans-65\" x=\"911.699219\"/>\n",
       "     <use xlink:href=\"#DejaVuSans-20\" x=\"973.222656\"/>\n",
       "     <use xlink:href=\"#DejaVuSans-66\" x=\"1005.009766\"/>\n",
       "     <use xlink:href=\"#DejaVuSans-69\" x=\"1040.214844\"/>\n",
       "     <use xlink:href=\"#DejaVuSans-65\" x=\"1067.998047\"/>\n",
       "     <use xlink:href=\"#DejaVuSans-6c\" x=\"1129.521484\"/>\n",
       "     <use xlink:href=\"#DejaVuSans-64\" x=\"1157.304688\"/>\n",
       "    </g>\n",
       "   </g>\n",
       "  </g>\n",
       "  <g id=\"axes_2\">\n",
       "   <g clip-path=\"url(#p7015cbefc6)\">\n",
       "    <image xlink:href=\"data:image/png;base64,\n",
       "iVBORw0KGgoAAAANSUhEUgAAAOIAAADiCAYAAABTEBvXAAACyElEQVR4nO3ZsQ2DQBQFQY4unNIEVVC4K3EVFu6AACTfBjPpJS9Z/eDGsh3nAky1zh4ACBEShAgBQoQAIUKAECFAiBAgRAgQIgQIEQKECAFChAAhQoAQIUCIECBECBAiBAgRAoQIAUKEACFCgBAhQIgQIEQIECIECBEChAgBQoQAIUKAECFAiBAgRAgQIgQIEQKECAFChAAhQoAQIUCIECBECBAiBAgRAoQIAUKEACFCgBAhQIgQIEQIECIECBEChAgBQoQAIUKAECFAiBAgRAgQIgQIEQKECAFChAAhQoAQIUCIECBECBAiBAgRAoQIAUKEACFCgBAhQIgQIEQIECIECBEChAgBQoQAIUKAECFAiBAgRAgQIgQIEQKECAFChAAhQoAQIUCIECBECBAiBAgRAoQIAUKEACFCgBAhQIgQIEQIECIECBEChAgBQoQAIUKAECFAiBAgRAgY389+zh7BM+vrffk+tuNPS7jLRYQAIUKAECFAiBAgRAgQIgQIEQL8I0KAiwgBQoQAIUKAECFAiBAgRAgQIgQIEQKECAFChAAhQoAQIUCIECBECBAiBAgRAoQIAUKEACFCgBAhQIgQIEQIECIECBEChAgBQoQAIUKAECFAiBAgRAgQIgQIEQKECAFChAAhQoAQIUCIECBECBAiBAgRAoQIAUKEACFCgBAhQIgQIEQIECIECBEChAgBQoQAIUKAECFAiBAgRAgQIgQIEQKECAFChAAhQoAQIUCIECBECBAiBAgRAoQIAUKEACFCgBAhQIgQIEQIECIECBEChAgBQoQAIUKAECFAiBAgRAgQIgQIEQKECAFChAAhQoAQIUCIECBECBAiBAgRAoQIAUKEACFCgBAhQIgQIEQIECIECBEChAgBQoQAIUKAECFAiBAgRAgQIgQIEQKECAFChAAhQoAQIUCIECBECBAiBAgRAn7nQwq4fGixCwAAAABJRU5ErkJggg==\" id=\"image2052b5693b\" transform=\"scale(1 -1) translate(0 -162.72)\" x=\"202\" y=\"-22.125398\" width=\"162.72\" height=\"162.72\"/>\n",
       "   </g>\n",
       "   <g id=\"text_2\">\n",
       "    <!-- Binary receptive field -->\n",
       "    <g transform=\"translate(219.029489 16.318125) scale(0.12 -0.12)\">\n",
       "     <defs>\n",
       "      <path id=\"DejaVuSans-42\" d=\"M 1259 2228 \n",
       "L 1259 519 \n",
       "L 2272 519 \n",
       "Q 2781 519 3026 730 \n",
       "Q 3272 941 3272 1375 \n",
       "Q 3272 1813 3026 2020 \n",
       "Q 2781 2228 2272 2228 \n",
       "L 1259 2228 \n",
       "z\n",
       "M 1259 4147 \n",
       "L 1259 2741 \n",
       "L 2194 2741 \n",
       "Q 2656 2741 2882 2914 \n",
       "Q 3109 3088 3109 3444 \n",
       "Q 3109 3797 2882 3972 \n",
       "Q 2656 4147 2194 4147 \n",
       "L 1259 4147 \n",
       "z\n",
       "M 628 4666 \n",
       "L 2241 4666 \n",
       "Q 2963 4666 3353 4366 \n",
       "Q 3744 4066 3744 3513 \n",
       "Q 3744 3084 3544 2831 \n",
       "Q 3344 2578 2956 2516 \n",
       "Q 3422 2416 3680 2098 \n",
       "Q 3938 1781 3938 1306 \n",
       "Q 3938 681 3513 340 \n",
       "Q 3088 0 2303 0 \n",
       "L 628 0 \n",
       "L 628 4666 \n",
       "z\n",
       "\" transform=\"scale(0.015625)\"/>\n",
       "      <path id=\"DejaVuSans-6e\" d=\"M 3513 2113 \n",
       "L 3513 0 \n",
       "L 2938 0 \n",
       "L 2938 2094 \n",
       "Q 2938 2591 2744 2837 \n",
       "Q 2550 3084 2163 3084 \n",
       "Q 1697 3084 1428 2787 \n",
       "Q 1159 2491 1159 1978 \n",
       "L 1159 0 \n",
       "L 581 0 \n",
       "L 581 3500 \n",
       "L 1159 3500 \n",
       "L 1159 2956 \n",
       "Q 1366 3272 1645 3428 \n",
       "Q 1925 3584 2291 3584 \n",
       "Q 2894 3584 3203 3211 \n",
       "Q 3513 2838 3513 2113 \n",
       "z\n",
       "\" transform=\"scale(0.015625)\"/>\n",
       "      <path id=\"DejaVuSans-61\" d=\"M 2194 1759 \n",
       "Q 1497 1759 1228 1600 \n",
       "Q 959 1441 959 1056 \n",
       "Q 959 750 1161 570 \n",
       "Q 1363 391 1709 391 \n",
       "Q 2188 391 2477 730 \n",
       "Q 2766 1069 2766 1631 \n",
       "L 2766 1759 \n",
       "L 2194 1759 \n",
       "z\n",
       "M 3341 1997 \n",
       "L 3341 0 \n",
       "L 2766 0 \n",
       "L 2766 531 \n",
       "Q 2569 213 2275 61 \n",
       "Q 1981 -91 1556 -91 \n",
       "Q 1019 -91 701 211 \n",
       "Q 384 513 384 1019 \n",
       "Q 384 1609 779 1909 \n",
       "Q 1175 2209 1959 2209 \n",
       "L 2766 2209 \n",
       "L 2766 2266 \n",
       "Q 2766 2663 2505 2880 \n",
       "Q 2244 3097 1772 3097 \n",
       "Q 1472 3097 1187 3025 \n",
       "Q 903 2953 641 2809 \n",
       "L 641 3341 \n",
       "Q 956 3463 1253 3523 \n",
       "Q 1550 3584 1831 3584 \n",
       "Q 2591 3584 2966 3190 \n",
       "Q 3341 2797 3341 1997 \n",
       "z\n",
       "\" transform=\"scale(0.015625)\"/>\n",
       "      <path id=\"DejaVuSans-79\" d=\"M 2059 -325 \n",
       "Q 1816 -950 1584 -1140 \n",
       "Q 1353 -1331 966 -1331 \n",
       "L 506 -1331 \n",
       "L 506 -850 \n",
       "L 844 -850 \n",
       "Q 1081 -850 1212 -737 \n",
       "Q 1344 -625 1503 -206 \n",
       "L 1606 56 \n",
       "L 191 3500 \n",
       "L 800 3500 \n",
       "L 1894 763 \n",
       "L 2988 3500 \n",
       "L 3597 3500 \n",
       "L 2059 -325 \n",
       "z\n",
       "\" transform=\"scale(0.015625)\"/>\n",
       "     </defs>\n",
       "     <use xlink:href=\"#DejaVuSans-42\"/>\n",
       "     <use xlink:href=\"#DejaVuSans-69\" x=\"68.603516\"/>\n",
       "     <use xlink:href=\"#DejaVuSans-6e\" x=\"96.386719\"/>\n",
       "     <use xlink:href=\"#DejaVuSans-61\" x=\"159.765625\"/>\n",
       "     <use xlink:href=\"#DejaVuSans-72\" x=\"221.044922\"/>\n",
       "     <use xlink:href=\"#DejaVuSans-79\" x=\"262.158203\"/>\n",
       "     <use xlink:href=\"#DejaVuSans-20\" x=\"321.337891\"/>\n",
       "     <use xlink:href=\"#DejaVuSans-72\" x=\"353.125\"/>\n",
       "     <use xlink:href=\"#DejaVuSans-65\" x=\"391.988281\"/>\n",
       "     <use xlink:href=\"#DejaVuSans-63\" x=\"453.511719\"/>\n",
       "     <use xlink:href=\"#DejaVuSans-65\" x=\"508.492188\"/>\n",
       "     <use xlink:href=\"#DejaVuSans-70\" x=\"570.015625\"/>\n",
       "     <use xlink:href=\"#DejaVuSans-74\" x=\"633.492188\"/>\n",
       "     <use xlink:href=\"#DejaVuSans-69\" x=\"672.701172\"/>\n",
       "     <use xlink:href=\"#DejaVuSans-76\" x=\"700.484375\"/>\n",
       "     <use xlink:href=\"#DejaVuSans-65\" x=\"759.664062\"/>\n",
       "     <use xlink:href=\"#DejaVuSans-20\" x=\"821.1875\"/>\n",
       "     <use xlink:href=\"#DejaVuSans-66\" x=\"852.974609\"/>\n",
       "     <use xlink:href=\"#DejaVuSans-69\" x=\"888.179688\"/>\n",
       "     <use xlink:href=\"#DejaVuSans-65\" x=\"915.962891\"/>\n",
       "     <use xlink:href=\"#DejaVuSans-6c\" x=\"977.486328\"/>\n",
       "     <use xlink:href=\"#DejaVuSans-64\" x=\"1005.269531\"/>\n",
       "    </g>\n",
       "   </g>\n",
       "  </g>\n",
       " </g>\n",
       " <defs>\n",
       "  <clipPath id=\"p3f56bbd486\">\n",
       "   <rect x=\"7.2\" y=\"22.318125\" width=\"162.327273\" height=\"162.327273\"/>\n",
       "  </clipPath>\n",
       "  <clipPath id=\"p7015cbefc6\">\n",
       "   <rect x=\"201.992727\" y=\"22.318125\" width=\"162.327273\" height=\"162.327273\"/>\n",
       "  </clipPath>\n",
       " </defs>\n",
       "</svg>\n"
      ],
      "text/plain": [
       "<Figure size 640x480 with 2 Axes>"
      ]
     },
     "metadata": {},
     "output_type": "display_data"
    }
   ],
   "source": [
    "test_model = PixelCNN2(c_in=1, c_hidden=64, layers = 13)\n",
    "inp = torch.zeros(1,1,28,28)\n",
    "inp.requires_grad_()\n",
    "out = test_model(inp)\n",
    "show_center_recep_field(inp, out.squeeze(dim=2))\n",
    "del inp, out, test_model"
   ]
  },
  {
   "cell_type": "code",
   "execution_count": null,
   "metadata": {},
   "outputs": [],
   "source": [
    "%load_ext tensorboard\n",
    "%tensorboard --logdir lightning_logs/"
   ]
  },
  {
   "cell_type": "code",
   "execution_count": 10,
   "metadata": {},
   "outputs": [],
   "source": [
    "def train_model(**kwargs):\n",
    "    # Create a PyTorch Lightning trainer with the generation callback\n",
    "    trainer = pl.Trainer(default_root_dir=os.path.join(CHECKPOINT_PATH, \"PixelCNN2\"), \n",
    "                         accelerator=\"gpu\" if str(device).startswith(\"cuda\") else \"cpu\",\n",
    "                         devices=1,\n",
    "                         max_epochs=150,\n",
    "                         callbacks=[ModelCheckpoint(save_weights_only=True, mode=\"min\", monitor=\"val_bpd\"),\n",
    "                                    LearningRateMonitor(\"epoch\")])\n",
    "    result = None\n",
    "    # Check whether pretrained model exists. If yes, load it and skip training\n",
    "    pretrained_filename = os.path.join(CHECKPOINT_PATH, \"PixelCNN2.ckpt\")\n",
    "    if os.path.isfile(pretrained_filename):\n",
    "        print(\"Found pretrained model, loading...\")\n",
    "        model = PixelCNN2.load_from_checkpoint(pretrained_filename)\n",
    "        ckpt = torch.load(pretrained_filename, map_location=device)\n",
    "        result = ckpt.get(\"result\", None)\n",
    "    else:\n",
    "        model = PixelCNN2(**kwargs)\n",
    "        trainer.fit(model, train_loader, val_loader)\n",
    "    model = model.to(device)\n",
    "    \n",
    "    if result is None:\n",
    "        # Test best model on validation and test set\n",
    "        val_result = trainer.test(model, val_loader, verbose=False)\n",
    "        test_result = trainer.test(model, test_loader, verbose=False)\n",
    "        result = {\"test\": test_result, \"val\": val_result}\n",
    "    return model, result"
   ]
  },
  {
   "cell_type": "code",
   "execution_count": 11,
   "metadata": {},
   "outputs": [
    {
     "name": "stderr",
     "output_type": "stream",
     "text": [
      "GPU available: True (cuda), used: True\n",
      "TPU available: False, using: 0 TPU cores\n",
      "IPU available: False, using: 0 IPUs\n",
      "HPU available: False, using: 0 HPUs\n",
      "Missing logger folder: ./saved_models/tutorial12\\logs\\PixelCNN2\n",
      "LOCAL_RANK: 0 - CUDA_VISIBLE_DEVICES: [0]\n",
      "\n",
      "  | Name        | Type                       | Params\n",
      "-----------------------------------------------------------\n",
      "0 | conv_vstack | VerticalStackConvolution   | 640   \n",
      "1 | conv_hstack | HorizontalStackConvolution | 256   \n",
      "2 | conv_vert   | ModuleList                 | 480 K \n",
      "3 | conv_horiz  | ModuleList                 | 160 K \n",
      "4 | conv_out    | Conv2d                     | 16.6 K\n",
      "-----------------------------------------------------------\n",
      "658 K     Trainable params\n",
      "0         Non-trainable params\n",
      "658 K     Total params\n",
      "2.633     Total estimated model params size (MB)\n"
     ]
    },
    {
     "data": {
      "application/vnd.jupyter.widget-view+json": {
       "model_id": "5d75ae1411784ea1ac0c855c15b2c50b",
       "version_major": 2,
       "version_minor": 0
      },
      "text/plain": [
       "Sanity Checking: |          | 0/? [00:00<?, ?it/s]"
      ]
     },
     "metadata": {},
     "output_type": "display_data"
    },
    {
     "name": "stderr",
     "output_type": "stream",
     "text": [
      "c:\\Users\\Danny\\AppData\\Local\\Programs\\Python\\Python311\\Lib\\site-packages\\pytorch_lightning\\trainer\\connectors\\data_connector.py:441: The 'val_dataloader' does not have many workers which may be a bottleneck. Consider increasing the value of the `num_workers` argument` to `num_workers=19` in the `DataLoader` to improve performance.\n",
      "c:\\Users\\Danny\\AppData\\Local\\Programs\\Python\\Python311\\Lib\\site-packages\\pytorch_lightning\\trainer\\connectors\\data_connector.py:441: The 'train_dataloader' does not have many workers which may be a bottleneck. Consider increasing the value of the `num_workers` argument` to `num_workers=19` in the `DataLoader` to improve performance.\n"
     ]
    },
    {
     "data": {
      "application/vnd.jupyter.widget-view+json": {
       "model_id": "0888a65c3c244135bec20d3915415cc9",
       "version_major": 2,
       "version_minor": 0
      },
      "text/plain": [
       "Training: |          | 0/? [00:00<?, ?it/s]"
      ]
     },
     "metadata": {},
     "output_type": "display_data"
    },
    {
     "data": {
      "application/vnd.jupyter.widget-view+json": {
       "model_id": "b7215bce42014d7f892acad62f527b7c",
       "version_major": 2,
       "version_minor": 0
      },
      "text/plain": [
       "Validation: |          | 0/? [00:00<?, ?it/s]"
      ]
     },
     "metadata": {},
     "output_type": "display_data"
    },
    {
     "data": {
      "application/vnd.jupyter.widget-view+json": {
       "model_id": "7c88a1b5846e4387a4bee505e7c223ed",
       "version_major": 2,
       "version_minor": 0
      },
      "text/plain": [
       "Validation: |          | 0/? [00:00<?, ?it/s]"
      ]
     },
     "metadata": {},
     "output_type": "display_data"
    },
    {
     "data": {
      "application/vnd.jupyter.widget-view+json": {
       "model_id": "e22d196947714d678b3c3622852cbed0",
       "version_major": 2,
       "version_minor": 0
      },
      "text/plain": [
       "Validation: |          | 0/? [00:00<?, ?it/s]"
      ]
     },
     "metadata": {},
     "output_type": "display_data"
    },
    {
     "data": {
      "application/vnd.jupyter.widget-view+json": {
       "model_id": "8f6c2173897e45a99cf9341063e2e965",
       "version_major": 2,
       "version_minor": 0
      },
      "text/plain": [
       "Validation: |          | 0/? [00:00<?, ?it/s]"
      ]
     },
     "metadata": {},
     "output_type": "display_data"
    },
    {
     "data": {
      "application/vnd.jupyter.widget-view+json": {
       "model_id": "983a8315308346959923d0c340df59e7",
       "version_major": 2,
       "version_minor": 0
      },
      "text/plain": [
       "Validation: |          | 0/? [00:00<?, ?it/s]"
      ]
     },
     "metadata": {},
     "output_type": "display_data"
    },
    {
     "data": {
      "application/vnd.jupyter.widget-view+json": {
       "model_id": "d60e76c82cb8446aae35eab84f4f0b16",
       "version_major": 2,
       "version_minor": 0
      },
      "text/plain": [
       "Validation: |          | 0/? [00:00<?, ?it/s]"
      ]
     },
     "metadata": {},
     "output_type": "display_data"
    },
    {
     "data": {
      "application/vnd.jupyter.widget-view+json": {
       "model_id": "2372c77817c347d1832efc4d9de359c2",
       "version_major": 2,
       "version_minor": 0
      },
      "text/plain": [
       "Validation: |          | 0/? [00:00<?, ?it/s]"
      ]
     },
     "metadata": {},
     "output_type": "display_data"
    },
    {
     "data": {
      "application/vnd.jupyter.widget-view+json": {
       "model_id": "b83739c27135495fb0cd2340e8ca3fdc",
       "version_major": 2,
       "version_minor": 0
      },
      "text/plain": [
       "Validation: |          | 0/? [00:00<?, ?it/s]"
      ]
     },
     "metadata": {},
     "output_type": "display_data"
    },
    {
     "data": {
      "application/vnd.jupyter.widget-view+json": {
       "model_id": "b9308a7781394608957fae5d6bba8732",
       "version_major": 2,
       "version_minor": 0
      },
      "text/plain": [
       "Validation: |          | 0/? [00:00<?, ?it/s]"
      ]
     },
     "metadata": {},
     "output_type": "display_data"
    },
    {
     "name": "stderr",
     "output_type": "stream",
     "text": [
      "c:\\Users\\Danny\\AppData\\Local\\Programs\\Python\\Python311\\Lib\\site-packages\\pytorch_lightning\\trainer\\call.py:54: Detected KeyboardInterrupt, attempting graceful shutdown...\n",
      "LOCAL_RANK: 0 - CUDA_VISIBLE_DEVICES: [0]\n",
      "c:\\Users\\Danny\\AppData\\Local\\Programs\\Python\\Python311\\Lib\\site-packages\\pytorch_lightning\\trainer\\connectors\\data_connector.py:441: The 'test_dataloader' does not have many workers which may be a bottleneck. Consider increasing the value of the `num_workers` argument` to `num_workers=19` in the `DataLoader` to improve performance.\n"
     ]
    },
    {
     "data": {
      "application/vnd.jupyter.widget-view+json": {
       "model_id": "0c7af2552133458fa9b02cceb4bdc7c3",
       "version_major": 2,
       "version_minor": 0
      },
      "text/plain": [
       "Testing: |          | 0/? [00:00<?, ?it/s]"
      ]
     },
     "metadata": {},
     "output_type": "display_data"
    },
    {
     "name": "stderr",
     "output_type": "stream",
     "text": [
      "LOCAL_RANK: 0 - CUDA_VISIBLE_DEVICES: [0]\n"
     ]
    },
    {
     "data": {
      "application/vnd.jupyter.widget-view+json": {
       "model_id": "ecfc8a47bb934d7e91ce63551262ef2d",
       "version_major": 2,
       "version_minor": 0
      },
      "text/plain": [
       "Testing: |          | 0/? [00:00<?, ?it/s]"
      ]
     },
     "metadata": {},
     "output_type": "display_data"
    },
    {
     "name": "stdout",
     "output_type": "stream",
     "text": [
      "Test bits per dimension: 1.166bpd\n"
     ]
    }
   ],
   "source": [
    "torch.set_float32_matmul_precision('medium')\n",
    "model, result = train_model(c_in=1, c_hidden=64, layers = 13)\n",
    "test_res = result[\"test\"][0]\n",
    "print(\"Test bits per dimension: %4.3fbpd\" % (test_res[\"test_loss\"] if \"test_loss\" in test_res else test_res[\"test_bpd\"]))"
   ]
  },
  {
   "cell_type": "code",
   "execution_count": 51,
   "metadata": {},
   "outputs": [
    {
     "name": "stdout",
     "output_type": "stream",
     "text": [
      "Number of parameters: 658,176\n"
     ]
    }
   ],
   "source": [
    "num_params = sum([np.prod(param.shape) for param in model.parameters()])\n",
    "print(\"Number of parameters: {:,}\".format(num_params))"
   ]
  },
  {
   "cell_type": "code",
   "execution_count": 63,
   "metadata": {},
   "outputs": [
    {
     "name": "stderr",
     "output_type": "stream",
     "text": [
      "Seed set to 1\n"
     ]
    },
    {
     "data": {
      "application/vnd.jupyter.widget-view+json": {
       "model_id": "a9af3e86478745ce89a8345c5285807c",
       "version_major": 2,
       "version_minor": 0
      },
      "text/plain": [
       "  0%|          | 0/28 [00:00<?, ?it/s]"
      ]
     },
     "metadata": {},
     "output_type": "display_data"
    },
    {
     "data": {
      "application/pdf": "[encoded data removed]",
      "image/svg+xml": [
       "<?xml version=\"1.0\" encoding=\"utf-8\" standalone=\"no\"?>\n",
       "<!DOCTYPE svg PUBLIC \"-//W3C//DTD SVG 1.1//EN\"\n",
       "  \"http://www.w3.org/Graphics/SVG/1.1/DTD/svg11.dtd\">\n",
       "<svg xmlns:xlink=\"http://www.w3.org/1999/xlink\" width=\"347.04pt\" height=\"347.04pt\" viewBox=\"0 0 347.04 347.04\" xmlns=\"http://www.w3.org/2000/svg\" version=\"1.1\">\n",
       " <metadata>\n",
       "  <rdf:RDF xmlns:dc=\"http://purl.org/dc/elements/1.1/\" xmlns:cc=\"http://creativecommons.org/ns#\" xmlns:rdf=\"http://www.w3.org/1999/02/22-rdf-syntax-ns#\">\n",
       "   <cc:Work>\n",
       "    <dc:type rdf:resource=\"http://purl.org/dc/dcmitype/StillImage\"/>\n",
       "    <dc:date>2024-06-11T20:19:53.810639</dc:date>\n",
       "    <dc:format>image/svg+xml</dc:format>\n",
       "    <dc:creator>\n",
       "     <cc:Agent>\n",
       "      <dc:title>Matplotlib v3.9.0, https://matplotlib.org/</dc:title>\n",
       "     </cc:Agent>\n",
       "    </dc:creator>\n",
       "   </cc:Work>\n",
       "  </rdf:RDF>\n",
       " </metadata>\n",
       " <defs>\n",
       "  <style type=\"text/css\">*{stroke-linejoin: round; stroke-linecap: butt}</style>\n",
       " </defs>\n",
       " <g id=\"figure_1\">\n",
       "  <g id=\"patch_1\">\n",
       "   <path d=\"M 0 347.04 \n",
       "L 347.04 347.04 \n",
       "L 347.04 -0 \n",
       "L 0 -0 \n",
       "z\n",
       "\" style=\"fill: #ffffff\"/>\n",
       "  </g>\n",
       "  <g id=\"axes_1\">\n",
       "   <g clip-path=\"url(#p1344e64b1e)\">\n",
       "    <image xlink:href=\"data:image/png;base64,\n",
       "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\" id=\"image8c1567fb6f\" transform=\"scale(1 -1) translate(0 -333.36)\" x=\"7.2\" y=\"-6.48\" width=\"332.64\" height=\"333.36\"/>\n",
       "   </g>\n",
       "  </g>\n",
       " </g>\n",
       " <defs>\n",
       "  <clipPath id=\"p1344e64b1e\">\n",
       "   <rect x=\"7.2\" y=\"7.2\" width=\"332.64\" height=\"332.64\"/>\n",
       "  </clipPath>\n",
       " </defs>\n",
       "</svg>\n"
      ],
      "text/plain": [
       "<Figure size 600x600 with 1 Axes>"
      ]
     },
     "metadata": {},
     "output_type": "display_data"
    }
   ],
   "source": [
    "pl.seed_everything(1)\n",
    "samples = model.sample(img_shape=(16,1,28,28))\n",
    "show_imgs(samples.cpu())"
   ]
  },
  {
   "cell_type": "code",
   "execution_count": 64,
   "metadata": {},
   "outputs": [
    {
     "name": "stderr",
     "output_type": "stream",
     "text": [
      "Seed set to 1\n"
     ]
    },
    {
     "data": {
      "application/vnd.jupyter.widget-view+json": {
       "model_id": "104f7ffc03fb4736843628310722ed54",
       "version_major": 2,
       "version_minor": 0
      },
      "text/plain": [
       "  0%|          | 0/64 [00:00<?, ?it/s]"
      ]
     },
     "metadata": {},
     "output_type": "display_data"
    },
    {
     "data": {
      "application/pdf": "[encoded data removed]",
      "image/svg+xml": [
       "<?xml version=\"1.0\" encoding=\"utf-8\" standalone=\"no\"?>\n",
       "<!DOCTYPE svg PUBLIC \"-//W3C//DTD SVG 1.1//EN\"\n",
       "  \"http://www.w3.org/Graphics/SVG/1.1/DTD/svg11.dtd\">\n",
       "<svg xmlns:xlink=\"http://www.w3.org/1999/xlink\" width=\"344.557612pt\" height=\"180.72pt\" viewBox=\"0 0 344.557612 180.72\" xmlns=\"http://www.w3.org/2000/svg\" version=\"1.1\">\n",
       " <metadata>\n",
       "  <rdf:RDF xmlns:dc=\"http://purl.org/dc/elements/1.1/\" xmlns:cc=\"http://creativecommons.org/ns#\" xmlns:rdf=\"http://www.w3.org/1999/02/22-rdf-syntax-ns#\">\n",
       "   <cc:Work>\n",
       "    <dc:type rdf:resource=\"http://purl.org/dc/dcmitype/StillImage\"/>\n",
       "    <dc:date>2024-06-11T20:20:11.116623</dc:date>\n",
       "    <dc:format>image/svg+xml</dc:format>\n",
       "    <dc:creator>\n",
       "     <cc:Agent>\n",
       "      <dc:title>Matplotlib v3.9.0, https://matplotlib.org/</dc:title>\n",
       "     </cc:Agent>\n",
       "    </dc:creator>\n",
       "   </cc:Work>\n",
       "  </rdf:RDF>\n",
       " </metadata>\n",
       " <defs>\n",
       "  <style type=\"text/css\">*{stroke-linejoin: round; stroke-linecap: butt}</style>\n",
       " </defs>\n",
       " <g id=\"figure_1\">\n",
       "  <g id=\"patch_1\">\n",
       "   <path d=\"M 0 180.72 \n",
       "L 344.557612 180.72 \n",
       "L 344.557612 0 \n",
       "L 0 0 \n",
       "z\n",
       "\" style=\"fill: #ffffff\"/>\n",
       "  </g>\n",
       "  <g id=\"axes_1\">\n",
       "   <g clip-path=\"url(#p50ced53e7c)\">\n",
       "    <image xlink:href=\"data:image/png;base64,\n",
       "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\" id=\"image7272c1d053\" transform=\"scale(1 -1) translate(0 -166.32)\" x=\"7.2\" y=\"-7.2\" width=\"330.48\" height=\"166.32\"/>\n",
       "   </g>\n",
       "  </g>\n",
       " </g>\n",
       " <defs>\n",
       "  <clipPath id=\"p50ced53e7c\">\n",
       "   <rect x=\"7.2\" y=\"7.2\" width=\"330.157612\" height=\"166.32\"/>\n",
       "  </clipPath>\n",
       " </defs>\n",
       "</svg>\n"
      ],
      "text/plain": [
       "<Figure size 600x300 with 1 Axes>"
      ]
     },
     "metadata": {},
     "output_type": "display_data"
    }
   ],
   "source": [
    "pl.seed_everything(1)\n",
    "samples = model.sample(img_shape=(8,1,64,64))\n",
    "show_imgs(samples.cpu())"
   ]
  },
  {
   "cell_type": "code",
   "execution_count": 65,
   "metadata": {},
   "outputs": [
    {
     "name": "stdout",
     "output_type": "stream",
     "text": [
      "Original image and input image to sampling:\n"
     ]
    },
    {
     "data": {
      "application/pdf": "[encoded data removed]",
      "image/svg+xml": [
       "<?xml version=\"1.0\" encoding=\"utf-8\" standalone=\"no\"?>\n",
       "<!DOCTYPE svg PUBLIC \"-//W3C//DTD SVG 1.1//EN\"\n",
       "  \"http://www.w3.org/Graphics/SVG/1.1/DTD/svg11.dtd\">\n",
       "<svg xmlns:xlink=\"http://www.w3.org/1999/xlink\" width=\"175.5225pt\" height=\"97.56pt\" viewBox=\"0 0 175.5225 97.56\" xmlns=\"http://www.w3.org/2000/svg\" version=\"1.1\">\n",
       " <metadata>\n",
       "  <rdf:RDF xmlns:dc=\"http://purl.org/dc/elements/1.1/\" xmlns:cc=\"http://creativecommons.org/ns#\" xmlns:rdf=\"http://www.w3.org/1999/02/22-rdf-syntax-ns#\">\n",
       "   <cc:Work>\n",
       "    <dc:type rdf:resource=\"http://purl.org/dc/dcmitype/StillImage\"/>\n",
       "    <dc:date>2024-06-11T20:20:14.193450</dc:date>\n",
       "    <dc:format>image/svg+xml</dc:format>\n",
       "    <dc:creator>\n",
       "     <cc:Agent>\n",
       "      <dc:title>Matplotlib v3.9.0, https://matplotlib.org/</dc:title>\n",
       "     </cc:Agent>\n",
       "    </dc:creator>\n",
       "   </cc:Work>\n",
       "  </rdf:RDF>\n",
       " </metadata>\n",
       " <defs>\n",
       "  <style type=\"text/css\">*{stroke-linejoin: round; stroke-linecap: butt}</style>\n",
       " </defs>\n",
       " <g id=\"figure_1\">\n",
       "  <g id=\"patch_1\">\n",
       "   <path d=\"M 0 97.56 \n",
       "L 175.5225 97.56 \n",
       "L 175.5225 0 \n",
       "L 0 0 \n",
       "z\n",
       "\" style=\"fill: #ffffff\"/>\n",
       "  </g>\n",
       "  <g id=\"axes_1\">\n",
       "   <g clip-path=\"url(#p2d524fde30)\">\n",
       "    <image xlink:href=\"data:image/png;base64,\n",
       "iVBORw0KGgoAAAANSUhEUgAAAOAAAAB0CAYAAACc2j60AAAFRElEQVR4nO3dP0iVbRjH8bvXVxAzwSEhEIdyMVPCJbRcUpAicIsMBA100UFIHe1MQoMQ0uSghmVQg4MtLS1qDWIUiuCgg2JTOoj/CLV3ebl5rkfO6WhHf8/xfD/TdXMdPQ9c/Lif23OO50IsFvvtAEj8o74AIJMRQECIAAJCBBAQIoCAEAEEhP5N1IzFYmd0GUjWn2bCzKIn0UzYAQEhAggIEUBAiAACQgQQECKAgBABBIQSvg4YNTdu3DDr79+/x33sysqKWdfW1vp6eXk5tRcGnBA7ICBEAAGhtLoFPTw8NOuDgwOzzsrK8nVRUZHpPX361Nd9fX2mt7a2lqpLBI6FHRAQIoCAEAEEhNLqDLiwsGDW79+/N+tHjx75empqyvTa29tP78KAE2IHBIQIICCUVregYf39/WYdvAUtKSkxvZs3b/r627dvp3lZQNLYAQEhAggIEUBAKK3PgOFPPMzPz/s6/MmJ58+f+7q+vv50LwxIEjsgIEQAASECCAil9Rnw58+fZr26uurr8BmwrKzM19euXTO9paWlU7g64M/YAQEhAggIpfUtaNj4+Liv7927Z3pXrlzxdWlpqelxCwoVdkBAiAACQgQQEDq3Z8COjg7Tq6io8HV3d7fpffr0yax3dnZO4eqAo9gBASECCAgRQEDoXJ0BNzY2fP3y5UvTGxwc9PWdO3dM7+7du2b94cOHU7g64Ch2QECIAAJC5+oWNGh2dtasNzc3fZ2fn296zc3NZs0tKM4KOyAgRAABIQIICJ3bM2D4v18/efLE10NDQ6ZXWFho1nl5eb7e2tpK/cUB/2MHBIQIICB0bm9Bw4KflOjp6TG927dvm/WzZ898Hf7kBJBK7ICAEAEEhAggIJQxZ8DjaGlp8fXAwIDpBf/5L/C32AEBIQIICBFAQCgjz4CxWMysx8bGzLqgoMDXlZWVpscZEKnEDggIEUBAKPK3oMG3id26dcv02tra4v7cmzdvzPrLly++/vjxo+lNTEyYdVNTk69fvXpletevX/f1jx8/4j4/kAx2QECIAAJCBBAQisQZMDc319evX782vbq6Ol9fvHgx6d8Zfqlhb2/P19PT06a3uLgY9/dcunTJrDs7O30d/lgTcFzsgIAQAQSECCAgFIkz4IMHD3zd0NAQ93HBL19xzrl3796Z9f37931dXFxsejk5Ob6ura01vfA6kaqqKl8Hz67OZc4Xez58+NCs3759G/exwZklmpdzR2eWCp8/fzbr+vp6X0dhXuyAgBABBIQicQs6OTmZ1OO6urrMOvw2seCXrmRnZ5ve1atXff348WPTa2xsNOvLly/HvYbq6mpfh1/qyJSXJZKdl3N2Zonm5ZydWXBeztmZnXReztmZRWFe7ICAEAEEhAggIBSJM+D29rav5+bmTK+8vNzXu7u7CX9P8Es4w9bX1309MzNjeqOjo2Yd/DN7a2ur6a2srPg6/CfuTBGcl3N2ZsF5OZd4ZsnOyzk7s0Tzcs7OLDgv56I3M3ZAQIgAAkKRuAUN3oq8ePHC9IaHh31dU1NjeuF3VpzU169f4657e3tN7/Dw0Nf7+/spef50E751DM4sOC/n7MzOYl7O2ZkF5+Vc9GbGDggIEUBAiAACQpE4AwaNjIwkXJ+1X79+SZ8/HQRnpJ6Xc+k1M3ZAQIgAAkIEEBAigIAQAQSECCAgRAABIQIICBFAQIgAAkIEEBAigIAQAQSECCAgRAABIQIICBFAQIgAAkIEEBAigIAQAQSELsRisd/qiwAyFTsgIEQAASECCAgRQECIAAJCBBAQ+g/peEE7jRpttQAAAABJRU5ErkJggg==\" id=\"imageaf23ea6c27\" transform=\"scale(1 -1) translate(0 -83.52)\" x=\"7.2\" y=\"-6.84\" width=\"161.28\" height=\"83.52\"/>\n",
       "   </g>\n",
       "  </g>\n",
       " </g>\n",
       " <defs>\n",
       "  <clipPath id=\"p2d524fde30\">\n",
       "   <rect x=\"7.2\" y=\"7.2\" width=\"161.1225\" height=\"83.16\"/>\n",
       "  </clipPath>\n",
       " </defs>\n",
       "</svg>\n"
      ],
      "text/plain": [
       "<Figure size 300x150 with 1 Axes>"
      ]
     },
     "metadata": {},
     "output_type": "display_data"
    },
    {
     "name": "stderr",
     "output_type": "stream",
     "text": [
      "Seed set to 1\n"
     ]
    },
    {
     "data": {
      "application/vnd.jupyter.widget-view+json": {
       "model_id": "d2fe2b2901fc4bd49107b5a709cb8dc2",
       "version_major": 2,
       "version_minor": 0
      },
      "text/plain": [
       "  0%|          | 0/28 [00:00<?, ?it/s]"
      ]
     },
     "metadata": {},
     "output_type": "display_data"
    },
    {
     "name": "stdout",
     "output_type": "stream",
     "text": [
      "Autocompletion samples:\n"
     ]
    },
    {
     "data": {
      "application/pdf": "[encoded data removed]",
      "image/svg+xml": [
       "<?xml version=\"1.0\" encoding=\"utf-8\" standalone=\"no\"?>\n",
       "<!DOCTYPE svg PUBLIC \"-//W3C//DTD SVG 1.1//EN\"\n",
       "  \"http://www.w3.org/Graphics/SVG/1.1/DTD/svg11.dtd\">\n",
       "<svg xmlns:xlink=\"http://www.w3.org/1999/xlink\" width=\"345.232174pt\" height=\"263.88pt\" viewBox=\"0 0 345.232174 263.88\" xmlns=\"http://www.w3.org/2000/svg\" version=\"1.1\">\n",
       " <metadata>\n",
       "  <rdf:RDF xmlns:dc=\"http://purl.org/dc/elements/1.1/\" xmlns:cc=\"http://creativecommons.org/ns#\" xmlns:rdf=\"http://www.w3.org/1999/02/22-rdf-syntax-ns#\">\n",
       "   <cc:Work>\n",
       "    <dc:type rdf:resource=\"http://purl.org/dc/dcmitype/StillImage\"/>\n",
       "    <dc:date>2024-06-11T20:20:15.831918</dc:date>\n",
       "    <dc:format>image/svg+xml</dc:format>\n",
       "    <dc:creator>\n",
       "     <cc:Agent>\n",
       "      <dc:title>Matplotlib v3.9.0, https://matplotlib.org/</dc:title>\n",
       "     </cc:Agent>\n",
       "    </dc:creator>\n",
       "   </cc:Work>\n",
       "  </rdf:RDF>\n",
       " </metadata>\n",
       " <defs>\n",
       "  <style type=\"text/css\">*{stroke-linejoin: round; stroke-linecap: butt}</style>\n",
       " </defs>\n",
       " <g id=\"figure_1\">\n",
       "  <g id=\"patch_1\">\n",
       "   <path d=\"M 0 263.88 \n",
       "L 345.232174 263.88 \n",
       "L 345.232174 0 \n",
       "L 0 0 \n",
       "z\n",
       "\" style=\"fill: #ffffff\"/>\n",
       "  </g>\n",
       "  <g id=\"axes_1\">\n",
       "   <g clip-path=\"url(#pd0521f6ea2)\">\n",
       "    <image xlink:href=\"data:image/png;base64,\n",
       "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\" id=\"imageb26171b87c\" transform=\"scale(1 -1) translate(0 -249.84)\" x=\"7.2\" y=\"-6.84\" width=\"331.2\" height=\"249.84\"/>\n",
       "   </g>\n",
       "  </g>\n",
       " </g>\n",
       " <defs>\n",
       "  <clipPath id=\"pd0521f6ea2\">\n",
       "   <rect x=\"7.2\" y=\"7.2\" width=\"330.832174\" height=\"249.48\"/>\n",
       "  </clipPath>\n",
       " </defs>\n",
       "</svg>\n"
      ],
      "text/plain": [
       "<Figure size 600x450 with 1 Axes>"
      ]
     },
     "metadata": {},
     "output_type": "display_data"
    },
    {
     "name": "stdout",
     "output_type": "stream",
     "text": [
      "Original image and input image to sampling:\n"
     ]
    },
    {
     "data": {
      "application/pdf": "[encoded data removed]",
      "image/svg+xml": [
       "<?xml version=\"1.0\" encoding=\"utf-8\" standalone=\"no\"?>\n",
       "<!DOCTYPE svg PUBLIC \"-//W3C//DTD SVG 1.1//EN\"\n",
       "  \"http://www.w3.org/Graphics/SVG/1.1/DTD/svg11.dtd\">\n",
       "<svg xmlns:xlink=\"http://www.w3.org/1999/xlink\" width=\"175.5225pt\" height=\"97.56pt\" viewBox=\"0 0 175.5225 97.56\" xmlns=\"http://www.w3.org/2000/svg\" version=\"1.1\">\n",
       " <metadata>\n",
       "  <rdf:RDF xmlns:dc=\"http://purl.org/dc/elements/1.1/\" xmlns:cc=\"http://creativecommons.org/ns#\" xmlns:rdf=\"http://www.w3.org/1999/02/22-rdf-syntax-ns#\">\n",
       "   <cc:Work>\n",
       "    <dc:type rdf:resource=\"http://purl.org/dc/dcmitype/StillImage\"/>\n",
       "    <dc:date>2024-06-11T20:20:15.854918</dc:date>\n",
       "    <dc:format>image/svg+xml</dc:format>\n",
       "    <dc:creator>\n",
       "     <cc:Agent>\n",
       "      <dc:title>Matplotlib v3.9.0, https://matplotlib.org/</dc:title>\n",
       "     </cc:Agent>\n",
       "    </dc:creator>\n",
       "   </cc:Work>\n",
       "  </rdf:RDF>\n",
       " </metadata>\n",
       " <defs>\n",
       "  <style type=\"text/css\">*{stroke-linejoin: round; stroke-linecap: butt}</style>\n",
       " </defs>\n",
       " <g id=\"figure_1\">\n",
       "  <g id=\"patch_1\">\n",
       "   <path d=\"M 0 97.56 \n",
       "L 175.5225 97.56 \n",
       "L 175.5225 0 \n",
       "L 0 0 \n",
       "z\n",
       "\" style=\"fill: #ffffff\"/>\n",
       "  </g>\n",
       "  <g id=\"axes_1\">\n",
       "   <g clip-path=\"url(#pfbdae9259b)\">\n",
       "    <image xlink:href=\"data:image/png;base64,\n",
       "iVBORw0KGgoAAAANSUhEUgAAAOAAAAB0CAYAAACc2j60AAAE8klEQVR4nO3dzyvsXxzH8XPN1VVk48d/IAtJWUhZTAkLaSTJTiY12UlWNpqlSBKpsdRINn4s/NggiY2SpVJWaGSp/Iz73Z3O+9P3jhnh/ZnPPB+r9+nd5dS71z2fk/nxKx6P/zUAVBRobwDIZwQQUEQAAUUEEFBEAAFFBBBQ9DtdMx6P/9A2kKmPZsLM/CfdTDgBAUUEEFBEAAFFBBBQRAABRQQQUEQAAUUEEFBEAAFFBBBQRAABRQQQUEQAAUUEEFBEAAFFBBBQRAABRQQQUEQAAUUEEFBEAAFFaT8Vze86OjrEenBw0Nbt7e0Z/5zX11exjkajtn58fBS9tbW1bLYIpMUJCCgigIAiAggoyqk7YFFRkVhPTU2JdVVV1ad+bmFhoVgnk0lbPz8/i97IyIitE4mE6L29vX3q9yN/cQICigggoMj3j6ClpaW2dh8NjcnukXN/f9/W5+fnohcKhcQ6FovZ+s+fP6I3Nzdn6+LiYtGbnJzMeD+AMZyAgCoCCCgigIAi398BZ2dnbe196Vk6kUhErE9OTmx9e3sregUF8v+hxcVFW4+NjYleW1ubrfv7+0WPOyCyxQkIKCKAgCICCCjy/R0wm7/17e7u2vrg4ED07u/v//nv3t/fxfr4+NjWPT09oue+Ham2tlb0mpqaxPro6OiDHSPfcQICigggoMj3j6DZ2NnZsXW6R85seH9Ob2+vrQ8PD0VvdXVVrOvr6219fX39JftBsHACAooIIKCIAAKKAnUHdF+qtrCwIHpfdSd0//RQVlYmehUVFWLtfac94MUJCCgigICiQD2ChsNhW19cXIie99Uun+W+C959t74xxlxeXor109PTl/xOBBcnIKCIAAKKCCCgKFB3QFdlZeW3/46bmxux7u7uFutUKvXte0Bu4wQEFBFAQBEBBBQF9g64vb0t1u7f5Do7O0XP+6loLu+Xs2xtbdn66upK9M7OzrLdJvIcJyCgiAACinz/CDozM2PrxsbGjP/dwMCAWLt/Eujq6hK9dI+g3peTbW5uZrwH4COcgIAiAggoIoCAIt/fAff29mx9enoqeu6njmXD/XBdQBMnIKCIAAKKCCCgyPd3wLu7O1svLS2JXl1dnViHQiFbj46Oit7Q0NA37A4fGR4etvXExIToufMyRn4Za77MixMQUEQAAUW+fwR1TU9Pi3UsFhPr6upqW9fU1PzInpCeO7N08zImP2fGCQgoIoCAIgIIKMqpO2A2GhoaxNp9F/zGxsZPbwcZcGfm/dSCoM6MExBQRAABRYF9BC0pKRFr73f5wX/cmeXLvDgBAUUEEFBEAAFFOX0H9H4Jp/elTa7x8XFbJ5NJ0Xt5efnajeF/fXZexsiZBWlenICAIgIIKCKAgKKcvgN6P/16eXnZ1s3NzaJXXl5u62g0KnqJROIbdgevdPMyRs7MnZcxcmZBmhcnIKCIAAKKcvoR1P3AJmOMiUQitl5fXxe9lpYWW7e2topekB5p/CzdvIyRM3PnZYycWZDmxQkIKCKAgCICCCjK6Tug18PDg637+vpEb2Vlxdbz8/M/tif8mzsvY+TM3HkZE9yZcQICigggoIgAAooCdQd0pVIpsQ6Hw0o7QabcmeXLvDgBAUUEEFBEAAFFBBBQRAABRQQQUPQrHo//1d4EkK84AQFFBBBQRAABRQQQUEQAAUUEEFD0HzgGCWpulNdBAAAAAElFTkSuQmCC\" id=\"imagefe45715663\" transform=\"scale(1 -1) translate(0 -83.52)\" x=\"7.2\" y=\"-6.84\" width=\"161.28\" height=\"83.52\"/>\n",
       "   </g>\n",
       "  </g>\n",
       " </g>\n",
       " <defs>\n",
       "  <clipPath id=\"pfbdae9259b\">\n",
       "   <rect x=\"7.2\" y=\"7.2\" width=\"161.1225\" height=\"83.16\"/>\n",
       "  </clipPath>\n",
       " </defs>\n",
       "</svg>\n"
      ],
      "text/plain": [
       "<Figure size 300x150 with 1 Axes>"
      ]
     },
     "metadata": {},
     "output_type": "display_data"
    },
    {
     "name": "stderr",
     "output_type": "stream",
     "text": [
      "Seed set to 1\n"
     ]
    },
    {
     "data": {
      "application/vnd.jupyter.widget-view+json": {
       "model_id": "610c03c2f63349f49fa1144c01e5146f",
       "version_major": 2,
       "version_minor": 0
      },
      "text/plain": [
       "  0%|          | 0/28 [00:00<?, ?it/s]"
      ]
     },
     "metadata": {},
     "output_type": "display_data"
    },
    {
     "name": "stdout",
     "output_type": "stream",
     "text": [
      "Autocompletion samples:\n"
     ]
    },
    {
     "data": {
      "application/pdf": "[encoded data removed]",
      "image/svg+xml": [
       "<?xml version=\"1.0\" encoding=\"utf-8\" standalone=\"no\"?>\n",
       "<!DOCTYPE svg PUBLIC \"-//W3C//DTD SVG 1.1//EN\"\n",
       "  \"http://www.w3.org/Graphics/SVG/1.1/DTD/svg11.dtd\">\n",
       "<svg xmlns:xlink=\"http://www.w3.org/1999/xlink\" width=\"345.232174pt\" height=\"263.88pt\" viewBox=\"0 0 345.232174 263.88\" xmlns=\"http://www.w3.org/2000/svg\" version=\"1.1\">\n",
       " <metadata>\n",
       "  <rdf:RDF xmlns:dc=\"http://purl.org/dc/elements/1.1/\" xmlns:cc=\"http://creativecommons.org/ns#\" xmlns:rdf=\"http://www.w3.org/1999/02/22-rdf-syntax-ns#\">\n",
       "   <cc:Work>\n",
       "    <dc:type rdf:resource=\"http://purl.org/dc/dcmitype/StillImage\"/>\n",
       "    <dc:date>2024-06-11T20:20:17.536341</dc:date>\n",
       "    <dc:format>image/svg+xml</dc:format>\n",
       "    <dc:creator>\n",
       "     <cc:Agent>\n",
       "      <dc:title>Matplotlib v3.9.0, https://matplotlib.org/</dc:title>\n",
       "     </cc:Agent>\n",
       "    </dc:creator>\n",
       "   </cc:Work>\n",
       "  </rdf:RDF>\n",
       " </metadata>\n",
       " <defs>\n",
       "  <style type=\"text/css\">*{stroke-linejoin: round; stroke-linecap: butt}</style>\n",
       " </defs>\n",
       " <g id=\"figure_1\">\n",
       "  <g id=\"patch_1\">\n",
       "   <path d=\"M 0 263.88 \n",
       "L 345.232174 263.88 \n",
       "L 345.232174 0 \n",
       "L 0 0 \n",
       "z\n",
       "\" style=\"fill: #ffffff\"/>\n",
       "  </g>\n",
       "  <g id=\"axes_1\">\n",
       "   <g clip-path=\"url(#p03056f8d79)\">\n",
       "    <image xlink:href=\"data:image/png;base64,\n",
       "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\" id=\"imageffc24783ea\" transform=\"scale(1 -1) translate(0 -249.84)\" x=\"7.2\" y=\"-6.84\" width=\"331.2\" height=\"249.84\"/>\n",
       "   </g>\n",
       "  </g>\n",
       " </g>\n",
       " <defs>\n",
       "  <clipPath id=\"p03056f8d79\">\n",
       "   <rect x=\"7.2\" y=\"7.2\" width=\"330.832174\" height=\"249.48\"/>\n",
       "  </clipPath>\n",
       " </defs>\n",
       "</svg>\n"
      ],
      "text/plain": [
       "<Figure size 600x450 with 1 Axes>"
      ]
     },
     "metadata": {},
     "output_type": "display_data"
    },
    {
     "name": "stdout",
     "output_type": "stream",
     "text": [
      "Original image and input image to sampling:\n"
     ]
    },
    {
     "data": {
      "application/pdf": "[encoded data removed]",
      "image/svg+xml": [
       "<?xml version=\"1.0\" encoding=\"utf-8\" standalone=\"no\"?>\n",
       "<!DOCTYPE svg PUBLIC \"-//W3C//DTD SVG 1.1//EN\"\n",
       "  \"http://www.w3.org/Graphics/SVG/1.1/DTD/svg11.dtd\">\n",
       "<svg xmlns:xlink=\"http://www.w3.org/1999/xlink\" width=\"175.5225pt\" height=\"97.56pt\" viewBox=\"0 0 175.5225 97.56\" xmlns=\"http://www.w3.org/2000/svg\" version=\"1.1\">\n",
       " <metadata>\n",
       "  <rdf:RDF xmlns:dc=\"http://purl.org/dc/elements/1.1/\" xmlns:cc=\"http://creativecommons.org/ns#\" xmlns:rdf=\"http://www.w3.org/1999/02/22-rdf-syntax-ns#\">\n",
       "   <cc:Work>\n",
       "    <dc:type rdf:resource=\"http://purl.org/dc/dcmitype/StillImage\"/>\n",
       "    <dc:date>2024-06-11T20:20:17.557849</dc:date>\n",
       "    <dc:format>image/svg+xml</dc:format>\n",
       "    <dc:creator>\n",
       "     <cc:Agent>\n",
       "      <dc:title>Matplotlib v3.9.0, https://matplotlib.org/</dc:title>\n",
       "     </cc:Agent>\n",
       "    </dc:creator>\n",
       "   </cc:Work>\n",
       "  </rdf:RDF>\n",
       " </metadata>\n",
       " <defs>\n",
       "  <style type=\"text/css\">*{stroke-linejoin: round; stroke-linecap: butt}</style>\n",
       " </defs>\n",
       " <g id=\"figure_1\">\n",
       "  <g id=\"patch_1\">\n",
       "   <path d=\"M 0 97.56 \n",
       "L 175.5225 97.56 \n",
       "L 175.5225 0 \n",
       "L 0 0 \n",
       "z\n",
       "\" style=\"fill: #ffffff\"/>\n",
       "  </g>\n",
       "  <g id=\"axes_1\">\n",
       "   <g clip-path=\"url(#pf8d8a69bcd)\">\n",
       "    <image xlink:href=\"data:image/png;base64,\n",
       "iVBORw0KGgoAAAANSUhEUgAAAOAAAAB0CAYAAACc2j60AAAFgElEQVR4nO3dT0hUXRjH8eOr5K6iwk24yVZtKqlNmJGI24IMghJchGBYBO4Ka0DKhdBC6R+0qkUJYn+ghbgQw4XQQnAjuEmLWhREBlGh5Lt44eE8J+b6h8nf7Z3vZ/UcnnHm0uHHuad7505FoVBYCQAk/lEfAFDOCCAgRAABIQIICBFAQIgAAkJVWc1CobBJh4G1Wm1OmLP8yZoTVkBAiAACQgQQECKAgBABBIQIICBEAAGhzOuA/yfV1dVW37592/XOnDnjxkePHrV6enr6zx4YyhorICBEAAGhsjkF3bt3r9Xt7e2Zr62rq7OaU1D8SayAgBABBIQIICBEAAEhAggIEUBAqGwuQ3z79s3qxcVF19u2bdtmHw4QQmAFBKQIICBEAAGhstkDzs/PWz0zM+N6jY2Nm3w0wH9YAQEhAggIEUBAqGz2gLE7d+64cfwN+HQ8PDy8KceE8sQKCAgRQEAo96egW7dutbqlpSXztZ8+fbJ6YmKi6OvSXnpr2tmzZ62+deuW6y0sLGQeA7AerICAEAEEhAggIJSLPeCWLVusHhgYcL3W1lart2/fnvk+S0tLVk9OTrpeb2+v1a9evSr6dyGEsGvXLquPHTvmeg8fPsw8BmA9WAEBIQIICBFAQCgXe8Dr169bff78edf7/v271eneLbVv3z6rjx8/7nqHDh2yenR01PXSa3vxHvDw4cOuxx4QpcQKCAgRQEAoF6eg8Q+nVFRUuN7Lly+tTn/HL1VbW2v1kSNHXO/JkydWnz59ekPHCZQaKyAgRAABIQIICEn2gDU1NW586tQpq1dWVlzv+fPna37fd+/eWT00NOR6Y2NjVl+9etX1urq63LiystLqzs5O17t48eKajwdYDSsgIEQAASHJKejPnz/d+P3791bv3r3b9R4/flySz/z8+bPV3d3drvfx40c3vnHjRtH3OXnypNXPnj0rybGhfLECAkIEEBAigICQZA+YPoVsamrK6viSRAghXLhwwer0gbql0t/f78YHDhywOr1t7dq1a1bHt8mF8Ps364HVsAICQgQQECKAgFAuvo704cOHor34VrA/tQf89euXG9+/f9/qdA+4f/9+q+MntoVQumuWKB+sgIAQAQSEcnEKevfuXavb2tpcb+fOnVant6nFt7CV0uvXr61+8+aN69XV1Vl94sQJ1+MUFOvFCggIEUBAiAACQrnYA87NzVkd3+oVQgiDg4NWX7p0yfXSb7YvLy9v6POrqvw/Q0dHh9XpD8LE39iPv+IEbAQrICBEAAEhAggI5WIPGEufgnb58mWr00dJPH361I3jrzXF1+tCCOHgwYNFPzPe84UQQlNTU9HXxj/kcuXKlaKvKyfx9dnx8XHX27Nnj9UNDQ2uF89XCH7OSjVfb9++deP6+nqrv3z5UvTvNgsrICBEAAGh3J2CpreX3bx50+oHDx64Xnq6Gl+W2LFjh+v19fVZnT78N8uPHz/cuL293eo8nMLkQTxn8XyF4Ocsa75C8HMWz1cIG5+zeL5CyN+csQICQgQQECKAgFDu9oCp+FJDc3Oz66VPULt3715JPnN2dtbq+DJICKv/Tn25Sy8NxXO2GfMVgp+zvM8XKyAgRAABodyfgsYP8T137pzrjY6OunFPT4/V6Z0w8W/Pp/8d/uLFCzceGRmx+uvXr+s84vKWPnQ5nrOs+QrBz1k8XyH4OcuarxD+rjljBQSECCAgRAABodzvAbM8evQoc4x8Yb5+xwoICBFAQIgAAkIEEBAigIAQAQSECCAgRAABIQIICBFAQIgAAkIEEBAigIAQAQSECCAgRAABIQIICBFAQIgAAkIEEBAigIBQRaFQWPsvHwIoKVZAQIgAAkIEEBAigIAQAQSECCAg9C86qlWdugRQtgAAAABJRU5ErkJggg==\" id=\"image0bb72e6d9e\" transform=\"scale(1 -1) translate(0 -83.52)\" x=\"7.2\" y=\"-6.84\" width=\"161.28\" height=\"83.52\"/>\n",
       "   </g>\n",
       "  </g>\n",
       " </g>\n",
       " <defs>\n",
       "  <clipPath id=\"pf8d8a69bcd\">\n",
       "   <rect x=\"7.2\" y=\"7.2\" width=\"161.1225\" height=\"83.16\"/>\n",
       "  </clipPath>\n",
       " </defs>\n",
       "</svg>\n"
      ],
      "text/plain": [
       "<Figure size 300x150 with 1 Axes>"
      ]
     },
     "metadata": {},
     "output_type": "display_data"
    },
    {
     "name": "stderr",
     "output_type": "stream",
     "text": [
      "Seed set to 1\n"
     ]
    },
    {
     "data": {
      "application/vnd.jupyter.widget-view+json": {
       "model_id": "d04392a8d39c4c29a5f0291bca46ef28",
       "version_major": 2,
       "version_minor": 0
      },
      "text/plain": [
       "  0%|          | 0/28 [00:00<?, ?it/s]"
      ]
     },
     "metadata": {},
     "output_type": "display_data"
    },
    {
     "name": "stdout",
     "output_type": "stream",
     "text": [
      "Autocompletion samples:\n"
     ]
    },
    {
     "data": {
      "application/pdf": "[encoded data removed]",
      "image/svg+xml": [
       "<?xml version=\"1.0\" encoding=\"utf-8\" standalone=\"no\"?>\n",
       "<!DOCTYPE svg PUBLIC \"-//W3C//DTD SVG 1.1//EN\"\n",
       "  \"http://www.w3.org/Graphics/SVG/1.1/DTD/svg11.dtd\">\n",
       "<svg xmlns:xlink=\"http://www.w3.org/1999/xlink\" width=\"345.232174pt\" height=\"263.88pt\" viewBox=\"0 0 345.232174 263.88\" xmlns=\"http://www.w3.org/2000/svg\" version=\"1.1\">\n",
       " <metadata>\n",
       "  <rdf:RDF xmlns:dc=\"http://purl.org/dc/elements/1.1/\" xmlns:cc=\"http://creativecommons.org/ns#\" xmlns:rdf=\"http://www.w3.org/1999/02/22-rdf-syntax-ns#\">\n",
       "   <cc:Work>\n",
       "    <dc:type rdf:resource=\"http://purl.org/dc/dcmitype/StillImage\"/>\n",
       "    <dc:date>2024-06-11T20:20:19.329303</dc:date>\n",
       "    <dc:format>image/svg+xml</dc:format>\n",
       "    <dc:creator>\n",
       "     <cc:Agent>\n",
       "      <dc:title>Matplotlib v3.9.0, https://matplotlib.org/</dc:title>\n",
       "     </cc:Agent>\n",
       "    </dc:creator>\n",
       "   </cc:Work>\n",
       "  </rdf:RDF>\n",
       " </metadata>\n",
       " <defs>\n",
       "  <style type=\"text/css\">*{stroke-linejoin: round; stroke-linecap: butt}</style>\n",
       " </defs>\n",
       " <g id=\"figure_1\">\n",
       "  <g id=\"patch_1\">\n",
       "   <path d=\"M 0 263.88 \n",
       "L 345.232174 263.88 \n",
       "L 345.232174 0 \n",
       "L 0 0 \n",
       "z\n",
       "\" style=\"fill: #ffffff\"/>\n",
       "  </g>\n",
       "  <g id=\"axes_1\">\n",
       "   <g clip-path=\"url(#pf562ec0980)\">\n",
       "    <image xlink:href=\"data:image/png;base64,\n",
       "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\" id=\"image5dd924efba\" transform=\"scale(1 -1) translate(0 -249.84)\" x=\"7.2\" y=\"-6.84\" width=\"331.2\" height=\"249.84\"/>\n",
       "   </g>\n",
       "  </g>\n",
       " </g>\n",
       " <defs>\n",
       "  <clipPath id=\"pf562ec0980\">\n",
       "   <rect x=\"7.2\" y=\"7.2\" width=\"330.832174\" height=\"249.48\"/>\n",
       "  </clipPath>\n",
       " </defs>\n",
       "</svg>\n"
      ],
      "text/plain": [
       "<Figure size 600x450 with 1 Axes>"
      ]
     },
     "metadata": {},
     "output_type": "display_data"
    }
   ],
   "source": [
    "def autocomplete_image(img):\n",
    "    # Remove lower half of the image\n",
    "    img_init = img.clone()\n",
    "    img_init[:,10:,:] = -1\n",
    "    print(\"Original image and input image to sampling:\")\n",
    "    show_imgs([img,img_init])\n",
    "    # Generate 12 example completions\n",
    "    img_init = img_init.unsqueeze(dim=0).expand(12,-1,-1,-1).to(device)\n",
    "    pl.seed_everything(1)\n",
    "    img_generated = model.sample(img_init.shape, img_init)\n",
    "    print(\"Autocompletion samples:\")\n",
    "    show_imgs(img_generated)\n",
    "\n",
    "for i in range(1,4):\n",
    "    img = train_set[i][0]\n",
    "    autocomplete_image(img)"
   ]
  }
 ],
 "metadata": {
  "kernelspec": {
   "display_name": "Python 3",
   "language": "python",
   "name": "python3"
  },
  "language_info": {
   "codemirror_mode": {
    "name": "ipython",
    "version": 3
   },
   "file_extension": ".py",
   "mimetype": "text/x-python",
   "name": "python",
   "nbconvert_exporter": "python",
   "pygments_lexer": "ipython3",
   "version": "3.11.5"
  }
 },
 "nbformat": 4,
 "nbformat_minor": 2
}
